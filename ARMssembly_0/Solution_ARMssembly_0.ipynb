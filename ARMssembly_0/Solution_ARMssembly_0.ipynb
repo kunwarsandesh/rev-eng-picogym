{
  "nbformat": 4,
  "nbformat_minor": 0,
  "metadata": {
    "colab": {
      "provenance": []
    },
    "kernelspec": {
      "name": "python3",
      "display_name": "Python 3"
    },
    "language_info": {
      "name": "python"
    }
  },
  "cells": [
    {
      "cell_type": "markdown",
      "source": [
        "# Description\n",
        "\n",
        "### What integer does this program print with arguments 4134207980 and 950176538? File: chall.S Flag format: picoCTF{XXXXXXXX} -> (hex, lowercase, no 0x, and 32 bits. ex. 5614267 would be picoCTF{0055aabb})"
      ],
      "metadata": {
        "id": "LEsUoDCElnLJ"
      }
    },
    {
      "cell_type": "markdown",
      "source": [
        "## **First we will check what is inside file chall.S through our terminal using cat command**\n",
        "\n",
        "\n",
        "we got this back , it is ARMsemmbly code , looks similar to assembly which i am a bit familiar too. ARM is actually awesome , I like the history of ARM chips and how it is so energy efficient. Here is a video about that if you are interested : https://www.youtube.com/watch?v=nIwdhPOVOUk\n",
        "\n",
        "```\n",
        "\t.arch armv8-a\n",
        "\t.file\t\"chall.c\"\n",
        "\t.text\n",
        "\t.align\t2\n",
        "\t.global\tfunc1\n",
        "\t.type\tfunc1, %function\n",
        "func1:\n",
        "\tsub\tsp, sp, #16\n",
        "\tstr\tw0, [sp, 12]\n",
        "\tstr\tw1, [sp, 8]\n",
        "\tldr\tw1, [sp, 12]\n",
        "\tldr\tw0, [sp, 8]\n",
        "\tcmp\tw1, w0\n",
        "\tbls\t.L2\n",
        "\tldr\tw0, [sp, 12]\n",
        "\tb\t.L3\n",
        ".L2:\n",
        "\tldr\tw0, [sp, 8]\n",
        ".L3:\n",
        "\tadd\tsp, sp, 16\n",
        "\tret\n",
        "\t.size\tfunc1, .-func1\n",
        "\t.section\t.rodata\n",
        "\t.align\t3\n",
        ".LC0:\n",
        "\t.string\t\"Result: %ld\\n\"\n",
        "\t.text\n",
        "\t.align\t2\n",
        "\t.global\tmain\n",
        "\t.type\tmain, %function\n",
        "main:\n",
        "\tstp\tx29, x30, [sp, -48]!\n",
        "\tadd\tx29, sp, 0\n",
        "\tstr\tx19, [sp, 16]\n",
        "\tstr\tw0, [x29, 44]\n",
        "\tstr\tx1, [x29, 32]\n",
        "\tldr\tx0, [x29, 32]\n",
        "\tadd\tx0, x0, 8\n",
        "\tldr\tx0, [x0]\n",
        "\tbl\tatoi\n",
        "\tmov\tw19, w0\n",
        "\tldr\tx0, [x29, 32]\n",
        "\tadd\tx0, x0, 16\n",
        "\tldr\tx0, [x0]\n",
        "\tbl\tatoi\n",
        "\tmov\tw1, w0\n",
        "\tmov\tw0, w19\n",
        "\tbl\tfunc1\n",
        "\tmov\tw1, w0\n",
        "\tadrp\tx0, .LC0\n",
        "\tadd\tx0, x0, :lo12:.LC0\n",
        "\tbl\tprintf\n",
        "\tmov\tw0, 0\n",
        "\tldr\tx19, [sp, 16]\n",
        "\tldp\tx29, x30, [sp], 48\n",
        "\tret\n",
        "\t.size\tmain, .-main\n",
        "\t.ident\t\"GCC: (Ubuntu/Linaro 7.5.0-3ubuntu1~18.04) 7.5.0\"\n",
        "\t.section\t.note.GNU-stack,\"\",@progbits\n",
        "  ```"
      ],
      "metadata": {
        "id": "hjSzJhITmpQf"
      }
    },
    {
      "cell_type": "markdown",
      "source": [
        "If we look at this assembly code we can convert it to this equivalent code:\n",
        "```python\n",
        "def func1(arg1, arg2):\n",
        "    if arg1 < arg2:\n",
        "        return arg2\n",
        "    else:\n",
        "        return arg1\n",
        "\n",
        "def main():\n",
        "    num1 = int(input(\"Enter the first number: \"))\n",
        "    num2 = int(input(\"Enter the second number: \"))\n",
        "\n",
        "    if num1 > num2:\n",
        "        result = num1\n",
        "    else:\n",
        "        result = num2\n",
        "\n",
        "    print(f\"Result: {result}\")\n",
        "\n",
        "if __name__ == \"__main__\":\n",
        "    main()\n",
        "```\n",
        "\n",
        "Let me explain the conversion:\n",
        "\n",
        "**Line 1-5:** The ARM assembly code defines the `func1` function, which takes two arguments (`w0` and `w1`) and returns the larger of the two. In Python, we define the `func1` function with two arguments and return the larger of the two.\n",
        "\n",
        "**Line 6-11:** The ARM assembly code defines the `main` function, which performs the following tasks:\n",
        "\t* Reads two numbers from the user using `atoi` (equivalent to `int(input(...))` in Python).\n",
        "\t* Calls `func1` with the two numbers as arguments.\n",
        "\t* Prints the result using `printf` (equivalent to `print` in Python).\n"
      ],
      "metadata": {
        "id": "bh3pCtNFsjlc"
      }
    },
    {
      "cell_type": "code",
      "source": [
        "#helper function to turn the number to hex according to our description\n",
        "\n",
        "def to_32bit_hex(number):\n",
        "    # Mask the number to 32 bits\n",
        "    masked_number = number & 0xFFFFFFFF\n",
        "    # Convert to hex, remove '0x' prefix, and convert to lowercase\n",
        "    hex_str = format(masked_number, '08x')\n",
        "    return hex_str\n",
        "\n",
        "#given numbers in our problem\n",
        "number1 =4134207980\n",
        "number2 =950176538\n",
        "#our program always chooses the greater number as explained in the equivalent python code fronm assembly above  so we choose number to be number1\n",
        "number = number1\n",
        "hex_str = to_32bit_hex(number)\n",
        "print(hex_str)  # Output: 'f66b01ec'"
      ],
      "metadata": {
        "colab": {
          "base_uri": "https://localhost:8080/"
        },
        "id": "6vS2DDp9kbXq",
        "outputId": "ea1e63d4-df57-45f6-e622-8f52d1b75db4"
      },
      "execution_count": 7,
      "outputs": [
        {
          "output_type": "stream",
          "name": "stdout",
          "text": [
            "f66b01ec\n"
          ]
        }
      ]
    },
    {
      "cell_type": "markdown",
      "source": [
        "So the answer to this problem is picoCTF{f66b01ec}"
      ],
      "metadata": {
        "id": "LvUoFp7TH-xa"
      }
    }
  ]
}